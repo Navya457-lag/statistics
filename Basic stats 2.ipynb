{
 "cells": [
  {
   "cell_type": "code",
   "execution_count": 6,
   "id": "8738506a-7497-4228-894a-c21a23b3d6c2",
   "metadata": {},
   "outputs": [
    {
     "name": "stdout",
     "output_type": "stream",
     "text": [
      "Sample Mean: 1.239\n",
      "Sample Standard Deviation: 0.193\n",
      "Sample Size: 15\n",
      "\n",
      "99% Confidence Interval using Sample Standard Deviation:\n",
      "Lower Bound: 1.090\n",
      "Upper Bound: 1.387\n",
      "\n",
      "99% Confidence Interval using Population Standard Deviation:\n",
      "Lower Bound: 1.106\n",
      "Upper Bound: 1.372\n"
     ]
    }
   ],
   "source": [
    "import numpy as np\n",
    "from scipy import stats\n",
    "\n",
    "# Sample data\n",
    "data = np.array([1.13, 1.55, 1.43, 0.92, 1.25, 1.36, 1.32, 0.85, 1.07, 1.48, 1.20, 1.33, 1.18, 1.22, 1.29])\n",
    "\n",
    "# Sample statistics\n",
    "sample_mean = np.mean(data)\n",
    "sample_std = np.std(data, ddof=1)\n",
    "n = len(data)\n",
    "\n",
    "# Confidence interval using sample standard deviation\n",
    "confidence_level = 0.99\n",
    "alpha = 1 - confidence_level\n",
    "t_critical = stats.t.ppf(1 - alpha / 2, df=n - 1)\n",
    "margin_of_error_t = t_critical * (sample_std / np.sqrt(n))\n",
    "confidence_interval_t = (sample_mean - margin_of_error_t, sample_mean + margin_of_error_t)\n",
    "\n",
    "# Known population standard deviation\n",
    "population_std = 0.2\n",
    "\n",
    "# Confidence interval using population standard deviation\n",
    "z_critical = stats.norm.ppf(1 - alpha / 2)\n",
    "margin_of_error_z = z_critical * (population_std / np.sqrt(n))\n",
    "confidence_interval_z = (sample_mean - margin_of_error_z, sample_mean + margin_of_error_z)\n",
    "\n",
    "# print results\n",
    "print(f\"Sample Mean: {sample_mean:.3f}\")\n",
    "print(f\"Sample Standard Deviation: {sample_std:.3f}\")\n",
    "print(f\"Sample Size: {n}\")\n",
    "print(\"\\n99% Confidence Interval using Sample Standard Deviation:\")\n",
    "print(f\"Lower Bound: {confidence_interval_t[0]:.3f}\")\n",
    "print(f\"Upper Bound: {confidence_interval_t[1]:.3f}\")\n",
    "print(\"\\n99% Confidence Interval using Population Standard Deviation:\")\n",
    "print(f\"Lower Bound: {confidence_interval_z[0]:.3f}\")\n",
    "print(f\"Upper Bound: {confidence_interval_z[1]:.3f}\")"
   ]
  },
  {
   "cell_type": "code",
   "execution_count": 12,
   "id": "f3c9a9d6-5efd-4d2c-a5d0-1ca08bcd674e",
   "metadata": {},
   "outputs": [
    {
     "name": "stdout",
     "output_type": "stream",
     "text": [
      "Sample Mean: 1.239\n",
      "Sample Size: 15\n",
      "\n",
      "99% Confidence Interval using Sample Standard Deviation:\n",
      "Lower Bound: 1.090\n",
      "Upper Bound: 1.387\n"
     ]
    }
   ],
   "source": [
    "import numpy as np\n",
    "from scipy import stats\n",
    "\n",
    "# Given data\n",
    "data = np.array([1.13, 1.55, 1.43, 0.92, 1.25, 1.36, 1.32, 0.85, 1.07, 1.48, 1.20, 1.33, 1.18, 1.22, 1.29])\n",
    "# Sample statistics\n",
    "\n",
    "sample_mean = np.mean(data)\n",
    "n = len(data)\n",
    "\n",
    "# Known population standard deviation\n",
    "population_std = 0.2\n",
    "\n",
    "# Confidence level\n",
    "confidence_level = 0.99\n",
    "alpha = 1 - confidence_level\n",
    "\n",
    "#Calculate the z_critical value for the confidence level\n",
    "z_critical = stats.norm.ppf(1 - alpha / 2)\n",
    "\n",
    "# Calculate the margin of error\n",
    "margin_error = z_critical * (population_std / np.sqrt(n))\n",
    "\n",
    "# Calculate the condifence interval\n",
    "confidence_interval = (sample_mean - margin_of_error, sample_mean + margin_of_error)\n",
    "\n",
    "# print results\n",
    "print(f\"Sample Mean: {sample_mean:.3f}\")\n",
    "print(f\"Sample Size: {n}\")\n",
    "print(\"\\n99% Confidence Interval using Sample Standard Deviation:\")\n",
    "print(f\"Lower Bound: {confidence_interval_t[0]:.3f}\")\n",
    "print(f\"Upper Bound: {confidence_interval_t[1]:.3f}\")"
   ]
  },
  {
   "cell_type": "code",
   "execution_count": 10,
   "id": "b0b66629-adc8-47c4-b810-2a3a35b91e1c",
   "metadata": {},
   "outputs": [
    {
     "name": "stdout",
     "output_type": "stream",
     "text": [
      "Sample Mean: 1.239\n",
      "Sample Size: 15\n",
      "\n",
      "99% Confidence Interval:\n",
      "Lower Bound: 1.106\n",
      "Upper Bound: 1.372\n"
     ]
    }
   ],
   "source": [
    "import numpy as np\n",
    "from scipy import stats\n",
    "\n",
    "# Given data\n",
    "data = np.array([1.13, 1.55, 1.43, 0.92, 1.25, 1.36, 1.32, 0.85, 1.07, 1.48, 1.20, 1.33, 1.18, 1.22, 1.29])\n",
    "\n",
    "# Sample statistics\n",
    "sample_mean = np.mean(data)\n",
    "n = len(data)\n",
    "\n",
    "# Known population standard deviation\n",
    "population_std = 0.2\n",
    "\n",
    "# Confidence level\n",
    "confidence_level = 0.99\n",
    "alpha = 1 - confidence_level\n",
    "\n",
    "# Calculate the critical z-value for the confidence level\n",
    "z_critical = stats.norm.ppf(1 - alpha / 2)\n",
    "\n",
    "# Calculate the margin of error\n",
    "margin_of_error = z_critical * (population_std / np.sqrt(n))\n",
    "\n",
    "# Calculate the confidence interval\n",
    "confidence_interval = (sample_mean - margin_of_error, sample_mean + margin_of_error)\n",
    "\n",
    "# Print results\n",
    "print(f\"Sample Mean: {sample_mean:.3f}\")\n",
    "print(f\"Sample Size: {n}\")\n",
    "print(\"\\n99% Confidence Interval:\")\n",
    "print(f\"Lower Bound: {confidence_interval[0]:.3f}\")\n",
    "print(f\"Upper Bound: {confidence_interval[1]:.3f}\")\n"
   ]
  },
  {
   "cell_type": "code",
   "execution_count": null,
   "id": "422a0325-967e-4837-a668-016f2a528094",
   "metadata": {},
   "outputs": [],
   "source": []
  }
 ],
 "metadata": {
  "kernelspec": {
   "display_name": "Python 3 (ipykernel)",
   "language": "python",
   "name": "python3"
  },
  "language_info": {
   "codemirror_mode": {
    "name": "ipython",
    "version": 3
   },
   "file_extension": ".py",
   "mimetype": "text/x-python",
   "name": "python",
   "nbconvert_exporter": "python",
   "pygments_lexer": "ipython3",
   "version": "3.12.4"
  }
 },
 "nbformat": 4,
 "nbformat_minor": 5
}
